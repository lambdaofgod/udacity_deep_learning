{
 "cells": [
  {
   "cell_type": "markdown",
   "metadata": {
    "colab_type": "text",
    "id": "kR-4eNdK6lYS"
   },
   "source": [
    "Deep Learning\n",
    "=============\n",
    "\n",
    "Assignment 3\n",
    "------------\n",
    "\n",
    "Previously in `2_fullyconnected.ipynb`, you trained a logistic regression and a neural network model.\n",
    "\n",
    "The goal of this assignment is to explore regularization techniques."
   ]
  },
  {
   "cell_type": "code",
   "execution_count": 6,
   "metadata": {
    "cellView": "both",
    "colab": {
     "autoexec": {
      "startup": false,
      "wait_interval": 0
     }
    },
    "colab_type": "code",
    "collapsed": true,
    "id": "JLpLa8Jt7Vu4"
   },
   "outputs": [],
   "source": [
    "# These are all the modules we'll be using later. Make sure you can import them\n",
    "# before proceeding further.\n",
    "from __future__ import print_function\n",
    "import numpy as np\n",
    "import tensorflow as tf\n",
    "from six.moves import cPickle as pickle"
   ]
  },
  {
   "cell_type": "markdown",
   "metadata": {
    "colab_type": "text",
    "id": "1HrCK6e17WzV"
   },
   "source": [
    "First reload the data we generated in _notmist.ipynb_."
   ]
  },
  {
   "cell_type": "code",
   "execution_count": 7,
   "metadata": {
    "cellView": "both",
    "colab": {
     "autoexec": {
      "startup": false,
      "wait_interval": 0
     },
     "output_extras": [
      {
       "item_id": 1
      }
     ]
    },
    "colab_type": "code",
    "collapsed": false,
    "executionInfo": {
     "elapsed": 11777,
     "status": "ok",
     "timestamp": 1449849322348,
     "user": {
      "color": "",
      "displayName": "",
      "isAnonymous": false,
      "isMe": true,
      "permissionId": "",
      "photoUrl": "",
      "sessionId": "0",
      "userId": ""
     },
     "user_tz": 480
    },
    "id": "y3-cj1bpmuxc",
    "outputId": "e03576f1-ebbe-4838-c388-f1777bcc9873"
   },
   "outputs": [
    {
     "name": "stdout",
     "output_type": "stream",
     "text": [
      "Training set (200000, 28, 28) (200000,)\n",
      "Validation set (10000, 28, 28) (10000,)\n",
      "Test set (10000, 28, 28) (10000,)\n"
     ]
    }
   ],
   "source": [
    "pickle_file = 'notMNIST.pickle'\n",
    "\n",
    "with open(pickle_file, 'rb') as f:\n",
    "  save = pickle.load(f)\n",
    "  train_dataset = save['train_dataset']\n",
    "  train_labels = save['train_labels']\n",
    "  valid_dataset = save['valid_dataset']\n",
    "  valid_labels = save['valid_labels']\n",
    "  test_dataset = save['test_dataset']\n",
    "  test_labels = save['test_labels']\n",
    "  del save  # hint to help gc free up memory\n",
    "  print('Training set', train_dataset.shape, train_labels.shape)\n",
    "  print('Validation set', valid_dataset.shape, valid_labels.shape)\n",
    "  print('Test set', test_dataset.shape, test_labels.shape)"
   ]
  },
  {
   "cell_type": "markdown",
   "metadata": {
    "colab_type": "text",
    "id": "L7aHrm6nGDMB"
   },
   "source": [
    "Reformat into a shape that's more adapted to the models we're going to train:\n",
    "- data as a flat matrix,\n",
    "- labels as float 1-hot encodings."
   ]
  },
  {
   "cell_type": "code",
   "execution_count": 8,
   "metadata": {
    "cellView": "both",
    "colab": {
     "autoexec": {
      "startup": false,
      "wait_interval": 0
     },
     "output_extras": [
      {
       "item_id": 1
      }
     ]
    },
    "colab_type": "code",
    "collapsed": false,
    "executionInfo": {
     "elapsed": 11728,
     "status": "ok",
     "timestamp": 1449849322356,
     "user": {
      "color": "",
      "displayName": "",
      "isAnonymous": false,
      "isMe": true,
      "permissionId": "",
      "photoUrl": "",
      "sessionId": "0",
      "userId": ""
     },
     "user_tz": 480
    },
    "id": "IRSyYiIIGIzS",
    "outputId": "3f8996ee-3574-4f44-c953-5c8a04636582"
   },
   "outputs": [
    {
     "name": "stdout",
     "output_type": "stream",
     "text": [
      "Training set (200000, 784) (200000, 10)\n",
      "Validation set (10000, 784) (10000, 10)\n",
      "Test set (10000, 784) (10000, 10)\n"
     ]
    }
   ],
   "source": [
    "image_size = 28\n",
    "num_labels = 10\n",
    "\n",
    "def reformat(dataset, labels):\n",
    "  dataset = dataset.reshape((-1, image_size * image_size)).astype(np.float32)\n",
    "  # Map 2 to [0.0, 1.0, 0.0 ...], 3 to [0.0, 0.0, 1.0 ...]\n",
    "  labels = (np.arange(num_labels) == labels[:,None]).astype(np.float32)\n",
    "  return dataset, labels\n",
    "train_dataset, train_labels = reformat(train_dataset, train_labels)\n",
    "valid_dataset, valid_labels = reformat(valid_dataset, valid_labels)\n",
    "test_dataset, test_labels = reformat(test_dataset, test_labels)\n",
    "print('Training set', train_dataset.shape, train_labels.shape)\n",
    "print('Validation set', valid_dataset.shape, valid_labels.shape)\n",
    "print('Test set', test_dataset.shape, test_labels.shape)"
   ]
  },
  {
   "cell_type": "code",
   "execution_count": 9,
   "metadata": {
    "cellView": "both",
    "colab": {
     "autoexec": {
      "startup": false,
      "wait_interval": 0
     }
    },
    "colab_type": "code",
    "collapsed": true,
    "id": "RajPLaL_ZW6w"
   },
   "outputs": [],
   "source": [
    "def accuracy(predictions, labels):\n",
    "  return (100.0 * np.sum(np.argmax(predictions, 1) == np.argmax(labels, 1))\n",
    "          / predictions.shape[0])"
   ]
  },
  {
   "cell_type": "markdown",
   "metadata": {
    "colab_type": "text",
    "id": "sgLbUAQ1CW-1"
   },
   "source": [
    "---\n",
    "Problem 1\n",
    "---------\n",
    "\n",
    "Introduce and tune L2 regularization for both logistic and neural network models. Remember that L2 amounts to adding a penalty on the norm of the weights to the loss. In TensorFlow, you can compute the L2 loss for a tensor `t` using `nn.l2_loss(t)`. The right amount of regularization should improve your validation / test accuracy.\n",
    "\n",
    "---"
   ]
  },
  {
   "cell_type": "code",
   "execution_count": 22,
   "metadata": {
    "collapsed": false
   },
   "outputs": [],
   "source": [
    "batch_size = 128\n",
    "lreg = 0.005\n",
    "\n",
    "graph = tf.Graph()\n",
    "with graph.as_default():\n",
    "\n",
    "  # Input data. For the training data, we use a placeholder that will be fed\n",
    "  # at run time with a training minibatch.\n",
    "  tf_train_dataset = tf.placeholder(tf.float32,\n",
    "                                    shape=(batch_size, image_size * image_size))\n",
    "  tf_train_labels = tf.placeholder(tf.float32, shape=(batch_size, num_labels))\n",
    "  tf_valid_dataset = tf.constant(valid_dataset)\n",
    "  tf_test_dataset = tf.constant(test_dataset)\n",
    "  \n",
    "  # Variables.\n",
    "  intermediate_size = 1024 \n",
    "  weights_in = tf.Variable(\n",
    "    tf.truncated_normal([image_size * image_size, intermediate_size]))\n",
    "  biases_in = tf.Variable(tf.zeros([intermediate_size]))\n",
    " \n",
    "  weights_hidden = tf.Variable(\n",
    "    tf.truncated_normal([intermediate_size, num_labels]))\n",
    "  biases_hidden = tf.Variable(tf.zeros([num_labels]))\n",
    "  \n",
    "  # Training computation.\n",
    "  def modelOutput(input_dataset):\n",
    "    in_layer = tf.matmul(input_dataset, weights_in) + biases_in\n",
    "    hidden_layer = tf.nn.relu(in_layer)\n",
    "    logits = tf.matmul(hidden_layer, weights_hidden) + biases_hidden\n",
    "    return logits\n",
    "\n",
    "  logits = modelOutput(tf_train_dataset)\n",
    "  loss = (tf.reduce_mean(\n",
    "    tf.nn.softmax_cross_entropy_with_logits(logits, tf_train_labels)) + \n",
    "    lreg * tf.nn.l2_loss(weights_in) +\n",
    "    lreg * tf.nn.l2_loss(weights_hidden) +\n",
    "    lreg * tf.nn.l2_loss(biases_in) + \n",
    "    lreg * tf.nn.l2_loss(biases_hidden) \n",
    "  )\n",
    "  \n",
    "  # Optimizer.\n",
    "  optimizer = tf.train.GradientDescentOptimizer(0.5).minimize(loss)\n",
    "  \n",
    "  # Predictions for the training, validation, and test data.\n",
    "  train_prediction = tf.nn.softmax(logits)\n",
    "  valid_prediction = tf.nn.softmax(modelOutput(tf_valid_dataset))\n",
    "  test_prediction = tf.nn.softmax(modelOutput(tf_test_dataset))"
   ]
  },
  {
   "cell_type": "code",
   "execution_count": 19,
   "metadata": {
    "collapsed": true
   },
   "outputs": [],
   "source": [
    "def accuracy(predictions, labels):\n",
    "  return (100.0 * np.sum(np.argmax(predictions, 1) == np.argmax(labels, 1))\n",
    "          / predictions.shape[0])\n"
   ]
  },
  {
   "cell_type": "code",
   "execution_count": 42,
   "metadata": {
    "collapsed": false
   },
   "outputs": [],
   "source": [
    "num_steps = 3001\n",
    "\n",
    "def run_graph(graph):\n",
    "    with tf.Session(graph=graph) as session:\n",
    "      tf.initialize_all_variables().run()\n",
    "      print(\"Initialized\")\n",
    "      for step in range(num_steps):\n",
    "        # Pick an offset within the training data, which has been randomized.\n",
    "        # Note: we could use better randomization across epochs.\n",
    "        offset = (step * batch_size) % (train_labels.shape[0] - batch_size)\n",
    "        # Generate a minibatch.\n",
    "        batch_data = train_dataset[offset:(offset + batch_size), :]\n",
    "        batch_labels = train_labels[offset:(offset + batch_size), :]\n",
    "        # Prepare a dictionary telling the session where to feed the minibatch.\n",
    "        # The key of the dictionary is the placeholder node of the graph to be fed,\n",
    "        # and the value is the numpy array to feed to it.\n",
    "        feed_dict = {tf_train_dataset : batch_data, tf_train_labels : batch_labels}\n",
    "        _, l, predictions = session.run(\n",
    "          [optimizer, loss, train_prediction], feed_dict=feed_dict)\n",
    "        if (step % 500 == 0):\n",
    "          print(\"Minibatch loss at step %d: %f\" % (step, l))\n",
    "          print(\"Minibatch accuracy: %.1f%%\" % accuracy(predictions, batch_labels))\n",
    "          print(\"Validation accuracy: %.1f%%\" % accuracy(\n",
    "            valid_prediction.eval(), valid_labels))\n",
    "      print(\"Test accuracy: %.1f%%\" % accuracy(test_prediction.eval(), test_labels))"
   ]
  },
  {
   "cell_type": "code",
   "execution_count": 21,
   "metadata": {
    "collapsed": false
   },
   "outputs": [
    {
     "name": "stdout",
     "output_type": "stream",
     "text": [
      "Initialized\n",
      "Minibatch loss at step 0: 366.347839\n",
      "Minibatch accuracy: 16.4%\n",
      "Validation accuracy: 33.6%\n",
      "Minibatch loss at step 500: 18.736956\n",
      "Minibatch accuracy: 79.7%\n",
      "Validation accuracy: 78.2%\n",
      "Minibatch loss at step 1000: 3.505894\n",
      "Minibatch accuracy: 87.5%\n",
      "Validation accuracy: 80.8%\n",
      "Minibatch loss at step 1500: 5.216174\n",
      "Minibatch accuracy: 84.4%\n",
      "Validation accuracy: 80.7%\n",
      "Minibatch loss at step 2000: 6.311972\n",
      "Minibatch accuracy: 76.6%\n",
      "Validation accuracy: 80.5%\n",
      "Minibatch loss at step 2500: 4.400104\n",
      "Minibatch accuracy: 78.9%\n",
      "Validation accuracy: 81.3%\n",
      "Minibatch loss at step 3000: 3.405824\n",
      "Minibatch accuracy: 81.2%\n",
      "Validation accuracy: 81.7%\n",
      "Test accuracy: 88.5%\n"
     ]
    }
   ],
   "source": [
    "run_graph(graph)"
   ]
  },
  {
   "cell_type": "code",
   "execution_count": 17,
   "metadata": {
    "collapsed": false
   },
   "outputs": [
    {
     "name": "stdout",
     "output_type": "stream",
     "text": [
      "Initialized\n",
      "Minibatch loss at step 0: 656.806152\n",
      "Minibatch accuracy: 14.1%\n",
      "Validation accuracy: 28.5%\n",
      "Minibatch loss at step 500: 195.363571\n",
      "Minibatch accuracy: 84.4%\n",
      "Validation accuracy: 79.4%\n",
      "Minibatch loss at step 1000: 114.673264\n",
      "Minibatch accuracy: 81.2%\n",
      "Validation accuracy: 80.8%\n",
      "Minibatch loss at step 1500: 70.176956\n",
      "Minibatch accuracy: 91.4%\n",
      "Validation accuracy: 82.4%\n",
      "Minibatch loss at step 2000: 42.624546\n",
      "Minibatch accuracy: 84.4%\n",
      "Validation accuracy: 82.3%\n",
      "Minibatch loss at step 2500: 25.707987\n",
      "Minibatch accuracy: 85.2%\n",
      "Validation accuracy: 85.2%\n",
      "Minibatch loss at step 3000: 15.494772\n",
      "Minibatch accuracy: 87.5%\n",
      "Validation accuracy: 86.0%\n",
      "Test accuracy: 92.5%\n"
     ]
    }
   ],
   "source": [
    "run_graph(graph)\n",
    "## lreg = 0.001"
   ]
  },
  {
   "cell_type": "code",
   "execution_count": 21,
   "metadata": {
    "collapsed": false
   },
   "outputs": [
    {
     "name": "stdout",
     "output_type": "stream",
     "text": [
      "Initialized\n",
      "Minibatch loss at step 0: 3430.182373\n",
      "Minibatch accuracy: 11.7%\n",
      "Validation accuracy: 25.4%\n",
      "Minibatch loss at step 500: 21.128643\n",
      "Minibatch accuracy: 87.5%\n",
      "Validation accuracy: 84.4%\n",
      "Minibatch loss at step 1000: 0.729865\n",
      "Minibatch accuracy: 89.1%\n",
      "Validation accuracy: 82.8%\n",
      "Minibatch loss at step 1500: 0.653057\n",
      "Minibatch accuracy: 87.5%\n",
      "Validation accuracy: 82.9%\n",
      "Minibatch loss at step 2000: 0.746328\n",
      "Minibatch accuracy: 83.6%\n",
      "Validation accuracy: 82.8%\n",
      "Minibatch loss at step 2500: 0.793419\n",
      "Minibatch accuracy: 80.5%\n",
      "Validation accuracy: 82.0%\n",
      "Minibatch loss at step 3000: 0.707086\n",
      "Minibatch accuracy: 83.6%\n",
      "Validation accuracy: 82.4%\n",
      "Test accuracy: 89.8%\n"
     ]
    }
   ],
   "source": [
    "run_graph(graph)\n",
    "## lreg = 0.01"
   ]
  },
  {
   "cell_type": "code",
   "execution_count": 23,
   "metadata": {
    "collapsed": false
   },
   "outputs": [
    {
     "name": "stdout",
     "output_type": "stream",
     "text": [
      "Initialized\n",
      "Minibatch loss at step 0: 1937.234497\n",
      "Minibatch accuracy: 12.5%\n",
      "Validation accuracy: 37.8%\n",
      "Minibatch loss at step 500: 127.339401\n",
      "Minibatch accuracy: 82.8%\n",
      "Validation accuracy: 81.7%\n",
      "Minibatch loss at step 1000: 10.678430\n",
      "Minibatch accuracy: 92.2%\n",
      "Validation accuracy: 85.2%\n",
      "Minibatch loss at step 1500: 1.400532\n",
      "Minibatch accuracy: 90.6%\n",
      "Validation accuracy: 85.0%\n",
      "Minibatch loss at step 2000: 0.711106\n",
      "Minibatch accuracy: 85.9%\n",
      "Validation accuracy: 84.6%\n",
      "Minibatch loss at step 2500: 0.710480\n",
      "Minibatch accuracy: 82.8%\n",
      "Validation accuracy: 84.0%\n",
      "Minibatch loss at step 3000: 0.614163\n",
      "Minibatch accuracy: 85.2%\n",
      "Validation accuracy: 84.5%\n",
      "Test accuracy: 91.0%\n"
     ]
    }
   ],
   "source": [
    "run_graph(graph)\n",
    "## lreg = 0.005"
   ]
  },
  {
   "cell_type": "markdown",
   "metadata": {
    "colab_type": "text",
    "id": "na8xX2yHZzNF"
   },
   "source": [
    "---\n",
    "Problem 2\n",
    "---------\n",
    "Let's demonstrate an extreme case of overfitting. Restrict your training data to just a few batches. What happens?\n",
    "\n",
    "---"
   ]
  },
  {
   "cell_type": "markdown",
   "metadata": {
    "colab_type": "text",
    "id": "ww3SCBUdlkRc"
   },
   "source": [
    "---\n",
    "Problem 3\n",
    "---------\n",
    "Introduce Dropout on the hidden layer of the neural network. Remember: Dropout should only be introduced during training, not evaluation, otherwise your evaluation results would be stochastic as well. TensorFlow provides `nn.dropout()` for that, but you have to make sure it's only inserted during training.\n",
    "\n",
    "What happens to our extreme overfitting case?\n",
    "\n",
    "---"
   ]
  },
  {
   "cell_type": "markdown",
   "metadata": {
    "colab_type": "text",
    "id": "-b1hTz3VWZjw"
   },
   "source": [
    "---\n",
    "Problem 4\n",
    "---------\n",
    "\n",
    "Try to get the best performance you can using a multi-layer model! The best reported test accuracy using a deep network is [97.1%](http://yaroslavvb.blogspot.com/2011/09/notmnist-dataset.html?showComment=1391023266211#c8758720086795711595).\n",
    "\n",
    "One avenue you can explore is to add multiple layers.\n",
    "\n",
    "Another one is to use learning rate decay:\n",
    "\n",
    "    global_step = tf.Variable(0)  # count the number of steps taken.\n",
    "    learning_rate = tf.train.exponential_decay(0.5, global_step, ...)\n",
    "    optimizer = tf.train.GradientDescentOptimizer(learning_rate).minimize(loss, global_step=global_step)\n",
    " \n",
    " ---\n"
   ]
  },
  {
   "cell_type": "code",
   "execution_count": 43,
   "metadata": {
    "collapsed": true
   },
   "outputs": [],
   "source": [
    "batch_size = 128\n",
    "lreg = 0.001\n",
    "\n",
    "goodGraph = tf.Graph()\n",
    "with goodGraph.as_default():\n",
    "\n",
    "  # Input data. For the training data, we use a placeholder that will be fed\n",
    "  # at run time with a training minibatch.\n",
    "  tf_train_dataset = tf.placeholder(tf.float32,\n",
    "                                    shape=(batch_size, image_size * image_size))\n",
    "  tf_train_labels = tf.placeholder(tf.float32, shape=(batch_size, num_labels))\n",
    "  tf_valid_dataset = tf.constant(valid_dataset)\n",
    "  tf_test_dataset = tf.constant(test_dataset)\n",
    "  \n",
    "  # Variables.\n",
    "  intermediate_size = 2048 \n",
    "  weights_in = tf.Variable(\n",
    "    tf.truncated_normal([image_size * image_size, intermediate_size]))\n",
    "  biases_in = tf.Variable(tf.zeros([intermediate_size]))\n",
    " \n",
    "  weights_hidden = tf.Variable(\n",
    "    tf.truncated_normal([intermediate_size, num_labels]))\n",
    "  biases_hidden = tf.Variable(tf.zeros([num_labels]))\n",
    "  \n",
    "  # Training computation.\n",
    "  def modelOutput(input_dataset):\n",
    "    in_layer = tf.matmul(input_dataset, weights_in) + biases_in\n",
    "    hidden_layer = tf.nn.relu(in_layer)\n",
    "    logits = tf.matmul(hidden_layer, weights_hidden) + biases_hidden\n",
    "    return logits\n",
    "\n",
    "  drop_outed = tf.nn.dropout(tf_train_dataset, 0.5)\n",
    "  logits = modelOutput(drop_outed)\n",
    "\n",
    "  loss = (tf.reduce_mean(\n",
    "    tf.nn.softmax_cross_entropy_with_logits(logits, tf_train_labels)) + \n",
    "    lreg * tf.nn.l2_loss(weights_in) +\n",
    "    lreg * tf.nn.l2_loss(weights_hidden)\n",
    "  )\n",
    "  \n",
    "  # Optimizer.\n",
    "  optimizer = tf.train.GradientDescentOptimizer(0.5).minimize(loss)\n",
    "  \n",
    "  # Predictions for the training, validation, and test data.\n",
    "  train_prediction = tf.nn.softmax(logits)\n",
    "  valid_prediction = tf.nn.softmax(modelOutput(tf_valid_dataset))\n",
    "  test_prediction = tf.nn.softmax(modelOutput(tf_test_dataset))"
   ]
  },
  {
   "cell_type": "code",
   "execution_count": 44,
   "metadata": {
    "collapsed": false
   },
   "outputs": [
    {
     "name": "stdout",
     "output_type": "stream",
     "text": [
      "Initialized\n",
      "Minibatch loss at step 0: 1371.273682\n",
      "Minibatch accuracy: 9.4%\n",
      "Validation accuracy: 22.2%\n",
      "Minibatch loss at step 500: 511.156769\n",
      "Minibatch accuracy: 69.5%\n",
      "Validation accuracy: 78.7%\n",
      "Minibatch loss at step 1000: 230.352341\n",
      "Minibatch accuracy: 80.5%\n",
      "Validation accuracy: 78.7%\n",
      "Minibatch loss at step 1500: 138.860352\n",
      "Minibatch accuracy: 77.3%\n",
      "Validation accuracy: 78.1%\n",
      "Minibatch loss at step 2000: 79.678040\n",
      "Minibatch accuracy: 75.0%\n",
      "Validation accuracy: 77.9%\n",
      "Minibatch loss at step 2500: 47.420040\n",
      "Minibatch accuracy: 77.3%\n",
      "Validation accuracy: 80.6%\n",
      "Minibatch loss at step 3000: 28.467379\n",
      "Minibatch accuracy: 78.9%\n",
      "Validation accuracy: 82.3%\n",
      "Minibatch loss at step 3500: 17.268114\n",
      "Minibatch accuracy: 83.6%\n",
      "Validation accuracy: 83.0%\n",
      "Minibatch loss at step 4000: 10.958103\n",
      "Minibatch accuracy: 75.8%\n",
      "Validation accuracy: 84.0%\n",
      "Minibatch loss at step 4500: 6.762144\n",
      "Minibatch accuracy: 84.4%\n",
      "Validation accuracy: 84.7%\n",
      "Minibatch loss at step 5000: 4.442385\n",
      "Minibatch accuracy: 78.9%\n",
      "Validation accuracy: 85.1%\n",
      "Minibatch loss at step 5500: 2.840946\n",
      "Minibatch accuracy: 85.2%\n",
      "Validation accuracy: 85.7%\n",
      "Minibatch loss at step 6000: 1.916668\n",
      "Minibatch accuracy: 84.4%\n",
      "Validation accuracy: 85.9%\n",
      "Minibatch loss at step 6500: 1.354470\n",
      "Minibatch accuracy: 85.2%\n",
      "Validation accuracy: 86.0%\n",
      "Minibatch loss at step 7000: 1.007571\n",
      "Minibatch accuracy: 84.4%\n",
      "Validation accuracy: 85.9%\n",
      "Minibatch loss at step 7500: 0.919783\n",
      "Minibatch accuracy: 84.4%\n",
      "Validation accuracy: 86.3%\n",
      "Minibatch loss at step 8000: 0.829409\n",
      "Minibatch accuracy: 82.0%\n",
      "Validation accuracy: 86.4%\n",
      "Minibatch loss at step 8500: 0.616247\n",
      "Minibatch accuracy: 89.8%\n",
      "Validation accuracy: 86.7%\n",
      "Minibatch loss at step 9000: 0.625055\n",
      "Minibatch accuracy: 82.0%\n",
      "Validation accuracy: 86.6%\n",
      "Minibatch loss at step 9500: 0.556062\n",
      "Minibatch accuracy: 85.9%\n",
      "Validation accuracy: 86.6%\n",
      "Test accuracy: 92.9%\n"
     ]
    }
   ],
   "source": [
    "num_steps = 10000\n",
    "run_graph(goodGraph)"
   ]
  },
  {
   "cell_type": "code",
   "execution_count": 72,
   "metadata": {
    "collapsed": false
   },
   "outputs": [],
   "source": [
    "batch_size = 128\n",
    "lreg = 0.005\n",
    "\n",
    "bigGraph = tf.Graph()\n",
    "with bigGraph.as_default():\n",
    "\n",
    "  # Input data. For the training data, we use a placeholder that will be fed\n",
    "  # at run time with a training minibatch.\n",
    "  tf_train_dataset = tf.placeholder(tf.float32,\n",
    "                                    shape=(batch_size, image_size * image_size))\n",
    "  tf_train_labels = tf.placeholder(tf.float32, shape=(batch_size, num_labels))\n",
    "  tf_valid_dataset = tf.constant(valid_dataset)\n",
    "  tf_test_dataset = tf.constant(test_dataset)\n",
    "  \n",
    "  # Variables.\n",
    "  intermediate_size = 1024 \n",
    "  weights_in = tf.Variable(\n",
    "    tf.truncated_normal([image_size * image_size, intermediate_size]))\n",
    "  biases_in = tf.Variable(tf.zeros([intermediate_size]))\n",
    " \n",
    "  weights_hidden1 = tf.Variable(\n",
    "    tf.truncated_normal([intermediate_size, intermediate_size]))\n",
    "  biases_hidden1 = tf.Variable(tf.zeros([intermediate_size]))\n",
    "\n",
    "  weights_hidden2 = tf.Variable(\n",
    "    tf.truncated_normal([intermediate_size, num_labels]))\n",
    "  biases_hidden2 = tf.Variable(tf.zeros([num_labels]))\n",
    "  \n",
    "    \n",
    "  # Training computation.\n",
    "  def modelOutput(input_dataset):\n",
    "    in_layer = tf.matmul(input_dataset, weights_in) + biases_in\n",
    "    hidden_layer1 = tf.nn.relu(in_layer)\n",
    "    hidden_layer2_in = tf.matmul(hidden_layer1, weights_hidden1) + biases_hidden1\n",
    "    hidden_layer2 = tf.nn.relu(hidden_layer2_in)\n",
    "    logits = tf.matmul(hidden_layer2, weights_hidden2) + biases_hidden2\n",
    "    return logits\n",
    "\n",
    "  logits = modelOutput(tf_train_dataset)\n",
    "\n",
    "  loss = (tf.reduce_mean(\n",
    "    tf.nn.softmax_cross_entropy_with_logits(logits, tf_train_labels)) + \n",
    "    lreg * tf.sqrt(tf.nn.l2_loss(weights_hidden1)) + \n",
    "    lreg * tf.sqrt(tf.nn.l2_loss(weights_hidden2))\n",
    "  )\n",
    "  \n",
    "  # Optimizer.\n",
    "  optimizer = tf.train.GradientDescentOptimizer(0.05).minimize(loss)\n",
    "  \n",
    "  # Predictions for the training, validation, and test data.\n",
    "  train_prediction = tf.nn.softmax(logits)\n",
    "  valid_prediction = tf.nn.softmax(modelOutput(tf_valid_dataset))\n",
    "  test_prediction = tf.nn.softmax(modelOutput(tf_test_dataset))"
   ]
  },
  {
   "cell_type": "code",
   "execution_count": null,
   "metadata": {
    "collapsed": false
   },
   "outputs": [],
   "source": [
    "run_graph(bigGraph)"
   ]
  },
  {
   "cell_type": "code",
   "execution_count": 69,
   "metadata": {
    "collapsed": false
   },
   "outputs": [],
   "source": [
    "batch_size = 128\n",
    "lreg = 0.005\n",
    "\n",
    "graph = tf.Graph()\n",
    "with graph.as_default():\n",
    "\n",
    "  # Input data. For the training data, we use a placeholder that will be fed\n",
    "  # at run time with a training minibatch.\n",
    "  tf_train_dataset = tf.placeholder(tf.float32,\n",
    "                                    shape=(batch_size, image_size * image_size))\n",
    "  tf_train_labels = tf.placeholder(tf.float32, shape=(batch_size, num_labels))\n",
    "  tf_valid_dataset = tf.constant(valid_dataset)\n",
    "  tf_test_dataset = tf.constant(test_dataset)\n",
    "  \n",
    "  # Variables.\n",
    "  intermediate_size = 1024 \n",
    "  weights_in = tf.Variable(\n",
    "    tf.truncated_normal([image_size * image_size, intermediate_size]))\n",
    "  biases_in = tf.Variable(tf.zeros([intermediate_size]))\n",
    " \n",
    "  weights_hidden = tf.Variable(\n",
    "    tf.truncated_normal([intermediate_size, num_labels]))\n",
    "  biases_hidden = tf.Variable(tf.zeros([num_labels]))\n",
    "  \n",
    "  # Training computation.\n",
    "  def modelOutput(input_dataset):\n",
    "    in_layer = tf.matmul(input_dataset, weights_in) + biases_in\n",
    "    hidden_layer = tf.nn.relu(in_layer)\n",
    "    logits = tf.matmul(hidden_layer, weights_hidden) + biases_hidden\n",
    "    return logits\n",
    "\n",
    "  logits = modelOutput(tf_train_dataset)\n",
    "  loss = (tf.reduce_mean(\n",
    "    tf.nn.softmax_cross_entropy_with_logits(logits, tf_train_labels)) + \n",
    "    lreg * tf.nn.l2_loss(weights_in) +\n",
    "    lreg * tf.nn.l2_loss(weights_hidden)\n",
    "  )\n",
    "\n",
    "  # Optimizer.\n",
    "  global_step = tf.Variable(0)  # count the number of steps taken.\n",
    "  learning_rate = tf.train.exponential_decay(0.5, global_step, decay_steps = 1.0, decay_rate = 0.01) \n",
    "  optimizer = tf.train.GradientDescentOptimizer(learning_rate).minimize(loss, global_step=global_step) \n",
    "  \n",
    "  # Predictions for the training, validation, and test data.\n",
    "  train_prediction = tf.nn.softmax(logits)\n",
    "  valid_prediction = tf.nn.softmax(modelOutput(tf_valid_dataset))\n",
    "  test_prediction = tf.nn.softmax(modelOutput(tf_test_dataset))"
   ]
  },
  {
   "cell_type": "code",
   "execution_count": 71,
   "metadata": {
    "collapsed": false
   },
   "outputs": [
    {
     "name": "stdout",
     "output_type": "stream",
     "text": [
      "Initialized\n",
      "Minibatch loss at step 0: 1942.253662\n",
      "Minibatch accuracy: 11.7%\n",
      "Validation accuracy: 34.3%\n",
      "Minibatch loss at step 500: 2764.665771\n",
      "Minibatch accuracy: 33.6%\n",
      "Validation accuracy: 34.9%\n",
      "Minibatch loss at step 1000: 2742.534912\n",
      "Minibatch accuracy: 34.4%\n",
      "Validation accuracy: 34.9%\n",
      "Minibatch loss at step 1500: 2526.392334\n",
      "Minibatch accuracy: 40.6%\n",
      "Validation accuracy: 34.9%\n",
      "Minibatch loss at step 2000: 2727.100342\n",
      "Minibatch accuracy: 36.7%\n",
      "Validation accuracy: 34.9%\n",
      "Minibatch loss at step 2500: 2753.257568\n",
      "Minibatch accuracy: 35.9%\n",
      "Validation accuracy: 34.9%\n",
      "Minibatch loss at step 3000: 2866.115479\n",
      "Minibatch accuracy: 28.9%\n",
      "Validation accuracy: 34.9%\n",
      "Minibatch loss at step 3500: 2732.522705\n",
      "Minibatch accuracy: 43.0%\n",
      "Validation accuracy: 34.9%\n",
      "Minibatch loss at step 4000: 2911.416260\n",
      "Minibatch accuracy: 32.0%\n",
      "Validation accuracy: 34.9%\n",
      "Minibatch loss at step 4500: 2542.940918\n",
      "Minibatch accuracy: 34.4%\n",
      "Validation accuracy: 34.9%\n",
      "Minibatch loss at step 5000: 2644.743896\n",
      "Minibatch accuracy: 40.6%\n",
      "Validation accuracy: 34.9%\n",
      "Minibatch loss at step 5500: 2855.704590\n",
      "Minibatch accuracy: 32.0%\n",
      "Validation accuracy: 34.9%\n",
      "Minibatch loss at step 6000: 2883.440430\n",
      "Minibatch accuracy: 32.8%\n",
      "Validation accuracy: 34.9%\n",
      "Minibatch loss at step 6500: 2740.712158\n",
      "Minibatch accuracy: 32.8%\n",
      "Validation accuracy: 34.9%\n",
      "Minibatch loss at step 7000: 2796.189209\n",
      "Minibatch accuracy: 34.4%\n",
      "Validation accuracy: 34.9%\n",
      "Minibatch loss at step 7500: 2809.267578\n",
      "Minibatch accuracy: 36.7%\n",
      "Validation accuracy: 34.9%\n",
      "Minibatch loss at step 8000: 2662.837646\n",
      "Minibatch accuracy: 35.9%\n",
      "Validation accuracy: 34.9%\n",
      "Minibatch loss at step 8500: 2646.034912\n",
      "Minibatch accuracy: 36.7%\n",
      "Validation accuracy: 34.9%\n",
      "Minibatch loss at step 9000: 2729.031494\n",
      "Minibatch accuracy: 35.2%\n",
      "Validation accuracy: 34.9%\n",
      "Minibatch loss at step 9500: 2648.688232\n",
      "Minibatch accuracy: 40.6%\n",
      "Validation accuracy: 34.9%\n",
      "Test accuracy: 38.0%\n"
     ]
    }
   ],
   "source": [
    "run_graph(graph)"
   ]
  },
  {
   "cell_type": "code",
   "execution_count": null,
   "metadata": {
    "collapsed": true
   },
   "outputs": [],
   "source": []
  }
 ],
 "metadata": {
  "anaconda-cloud": {},
  "colab": {
   "default_view": {},
   "name": "3_regularization.ipynb",
   "provenance": [],
   "version": "0.3.2",
   "views": {}
  },
  "hide_input": false,
  "kernelspec": {
   "display_name": "Python 2",
   "language": "python",
   "name": "python2"
  },
  "language_info": {
   "codemirror_mode": {
    "name": "ipython",
    "version": 2
   },
   "file_extension": ".py",
   "mimetype": "text/x-python",
   "name": "python",
   "nbconvert_exporter": "python",
   "pygments_lexer": "ipython2",
   "version": "2.7.12"
  }
 },
 "nbformat": 4,
 "nbformat_minor": 0
}
